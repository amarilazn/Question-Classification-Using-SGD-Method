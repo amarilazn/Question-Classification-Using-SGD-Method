{
 "cells": [
  {
   "cell_type": "code",
   "execution_count": 1,
   "metadata": {},
   "outputs": [],
   "source": [
    "import pandas as pd\n",
    "import numpy as np\n",
    "from sklearn.feature_extraction.text import TfidfVectorizer\n",
    "from sklearn.feature_extraction.text import TfidfTransformer\n",
    "from sklearn import model_selection\n",
    "from sklearn.linear_model import SGDClassifier\n",
    "from sklearn.metrics import accuracy_score\n",
    "from sklearn.model_selection import train_test_split\n",
    "from sklearn.model_selection import KFold\n",
    "from sklearn.pipeline import Pipeline\n",
    "from sklearn.model_selection import cross_val_score"
   ]
  },
  {
   "cell_type": "code",
   "execution_count": 2,
   "metadata": {},
   "outputs": [
    {
     "data": {
      "text/html": [
       "<div>\n",
       "<style scoped>\n",
       "    .dataframe tbody tr th:only-of-type {\n",
       "        vertical-align: middle;\n",
       "    }\n",
       "\n",
       "    .dataframe tbody tr th {\n",
       "        vertical-align: top;\n",
       "    }\n",
       "\n",
       "    .dataframe thead th {\n",
       "        text-align: right;\n",
       "    }\n",
       "</style>\n",
       "<table border=\"1\" class=\"dataframe\">\n",
       "  <thead>\n",
       "    <tr style=\"text-align: right;\">\n",
       "      <th></th>\n",
       "      <th>Soal Pertanyaan</th>\n",
       "      <th>Label</th>\n",
       "      <th>Casefold</th>\n",
       "      <th>Tokenize</th>\n",
       "      <th>FreqDist</th>\n",
       "      <th>Stopwords</th>\n",
       "      <th>Stemmed</th>\n",
       "    </tr>\n",
       "  </thead>\n",
       "  <tbody>\n",
       "    <tr>\n",
       "      <th>0</th>\n",
       "      <td>ASEAN merupakan organisasi regional Asia Tengg...</td>\n",
       "      <td>C4</td>\n",
       "      <td>asean merupakan organisasi regional asia tengg...</td>\n",
       "      <td>['asean', 'merupakan', 'organisasi', 'regional...</td>\n",
       "      <td>&lt;FreqDist with 21 samples and 22 outcomes&gt;</td>\n",
       "      <td>['asean', 'organisasi', 'regional', 'asia', 't...</td>\n",
       "      <td>['asean', 'organisasi', 'regional', 'asia', 't...</td>\n",
       "    </tr>\n",
       "    <tr>\n",
       "      <th>1</th>\n",
       "      <td>Gerakan Non Blok merupakan organisasi negara-n...</td>\n",
       "      <td>C4</td>\n",
       "      <td>gerakan non blok merupakan organisasi negara-n...</td>\n",
       "      <td>['gerakan', 'non', 'blok', 'merupakan', 'organ...</td>\n",
       "      <td>&lt;FreqDist with 23 samples and 25 outcomes&gt;</td>\n",
       "      <td>['gerakan', 'non', 'blok', 'organisasi', 'nega...</td>\n",
       "      <td>['gera', 'non', 'blok', 'organisasi', 'negaran...</td>\n",
       "    </tr>\n",
       "    <tr>\n",
       "      <th>2</th>\n",
       "      <td>Salah satu penyebab kacaunya kondisi perekonom...</td>\n",
       "      <td>C4</td>\n",
       "      <td>salah satu penyebab kacaunya kondisi perekonom...</td>\n",
       "      <td>['salah', 'satu', 'penyebab', 'kacaunya', 'kon...</td>\n",
       "      <td>&lt;FreqDist with 21 samples and 28 outcomes&gt;</td>\n",
       "      <td>['salah', 'penyebab', 'kacaunya', 'kondisi', '...</td>\n",
       "      <td>['salah', 'sebab', 'kacau', 'kondisi', 'ekonom...</td>\n",
       "    </tr>\n",
       "    <tr>\n",
       "      <th>3</th>\n",
       "      <td>Indonesia harus dapat mengatasi permasalahan e...</td>\n",
       "      <td>C5</td>\n",
       "      <td>indonesia harus dapat mengatasi permasalahan e...</td>\n",
       "      <td>['indonesia', 'harus', 'dapat', 'mengatasi', '...</td>\n",
       "      <td>&lt;FreqDist with 22 samples and 27 outcomes&gt;</td>\n",
       "      <td>['indonesia', 'mengatasi', 'permasalahan', 'ek...</td>\n",
       "      <td>['indonesia', 'atas', 'masalah', 'ekonomi', 'h...</td>\n",
       "    </tr>\n",
       "    <tr>\n",
       "      <th>4</th>\n",
       "      <td>Walaupun pada awalnya secara tersembunyi tujua...</td>\n",
       "      <td>C4</td>\n",
       "      <td>walaupun pada awalnya secara tersembunyi tujua...</td>\n",
       "      <td>['walaupun', 'pada', 'awalnya', 'secara', 'ter...</td>\n",
       "      <td>&lt;FreqDist with 34 samples and 36 outcomes&gt;</td>\n",
       "      <td>['tersembunyi', 'tujuan', 'pemerintah', 'kolon...</td>\n",
       "      <td>['sembunyi', 'tuju', 'perintah', 'kolonial', '...</td>\n",
       "    </tr>\n",
       "  </tbody>\n",
       "</table>\n",
       "</div>"
      ],
      "text/plain": [
       "                                     Soal Pertanyaan Label  \\\n",
       "0  ASEAN merupakan organisasi regional Asia Tengg...    C4   \n",
       "1  Gerakan Non Blok merupakan organisasi negara-n...    C4   \n",
       "2  Salah satu penyebab kacaunya kondisi perekonom...    C4   \n",
       "3  Indonesia harus dapat mengatasi permasalahan e...    C5   \n",
       "4  Walaupun pada awalnya secara tersembunyi tujua...    C4   \n",
       "\n",
       "                                            Casefold  \\\n",
       "0  asean merupakan organisasi regional asia tengg...   \n",
       "1  gerakan non blok merupakan organisasi negara-n...   \n",
       "2  salah satu penyebab kacaunya kondisi perekonom...   \n",
       "3  indonesia harus dapat mengatasi permasalahan e...   \n",
       "4  walaupun pada awalnya secara tersembunyi tujua...   \n",
       "\n",
       "                                            Tokenize  \\\n",
       "0  ['asean', 'merupakan', 'organisasi', 'regional...   \n",
       "1  ['gerakan', 'non', 'blok', 'merupakan', 'organ...   \n",
       "2  ['salah', 'satu', 'penyebab', 'kacaunya', 'kon...   \n",
       "3  ['indonesia', 'harus', 'dapat', 'mengatasi', '...   \n",
       "4  ['walaupun', 'pada', 'awalnya', 'secara', 'ter...   \n",
       "\n",
       "                                     FreqDist  \\\n",
       "0  <FreqDist with 21 samples and 22 outcomes>   \n",
       "1  <FreqDist with 23 samples and 25 outcomes>   \n",
       "2  <FreqDist with 21 samples and 28 outcomes>   \n",
       "3  <FreqDist with 22 samples and 27 outcomes>   \n",
       "4  <FreqDist with 34 samples and 36 outcomes>   \n",
       "\n",
       "                                           Stopwords  \\\n",
       "0  ['asean', 'organisasi', 'regional', 'asia', 't...   \n",
       "1  ['gerakan', 'non', 'blok', 'organisasi', 'nega...   \n",
       "2  ['salah', 'penyebab', 'kacaunya', 'kondisi', '...   \n",
       "3  ['indonesia', 'mengatasi', 'permasalahan', 'ek...   \n",
       "4  ['tersembunyi', 'tujuan', 'pemerintah', 'kolon...   \n",
       "\n",
       "                                             Stemmed  \n",
       "0  ['asean', 'organisasi', 'regional', 'asia', 't...  \n",
       "1  ['gera', 'non', 'blok', 'organisasi', 'negaran...  \n",
       "2  ['salah', 'sebab', 'kacau', 'kondisi', 'ekonom...  \n",
       "3  ['indonesia', 'atas', 'masalah', 'ekonomi', 'h...  \n",
       "4  ['sembunyi', 'tuju', 'perintah', 'kolonial', '...  "
      ]
     },
     "execution_count": 2,
     "metadata": {},
     "output_type": "execute_result"
    }
   ],
   "source": [
    "soal = pd.read_csv(r\"C:\\Users\\DELL\\Documents\\Active Folder\\COOLYAH\\SMT 8\\TA\\source code\\Dataset Soal C4-C6 preprocessed.csv\")\n",
    "soal.head()"
   ]
  },
  {
   "cell_type": "code",
   "execution_count": 3,
   "metadata": {},
   "outputs": [
    {
     "data": {
      "text/plain": [
       "C4    37\n",
       "C5    15\n",
       "C6     6\n",
       "Name: Label, dtype: int64"
      ]
     },
     "execution_count": 3,
     "metadata": {},
     "output_type": "execute_result"
    }
   ],
   "source": [
    "soal['Label'].value_counts()"
   ]
  },
  {
   "cell_type": "code",
   "execution_count": 4,
   "metadata": {},
   "outputs": [],
   "source": [
    "import imblearn\n",
    "from imblearn.over_sampling import RandomOverSampler\n",
    "from imblearn.over_sampling import SMOTE\n",
    "from collections import Counter\n",
    "from sklearn.preprocessing import LabelEncoder"
   ]
  },
  {
   "cell_type": "code",
   "execution_count": 5,
   "metadata": {},
   "outputs": [],
   "source": [
    "x = soal['Stemmed'].values\n",
    "y = soal['Label'].values"
   ]
  },
  {
   "cell_type": "code",
   "execution_count": 6,
   "metadata": {},
   "outputs": [
    {
     "name": "stdout",
     "output_type": "stream",
     "text": [
      "[\"['asean', 'organisasi', 'regional', 'asia', 'tenggara', 'bentuk', 'dasar', 'deklarasi', 'bangkok', 'tanggal', '8', 'agustus', '1967', 'segi', 'politik', 'organisasi', 'tuju']\"\n",
      " \"['gera', 'non', 'blok', 'organisasi', 'negaranegara', 'kembang', 'bentuk', 'dasar', 'konferensi', 'beograd', '1961', 'organisasi', 'gagas', 'karno', 'tuju']\"\n",
      " \"['salah', 'sebab', 'kacau', 'kondisi', 'ekonomi', 'indonesia', 'merdeka', 'kas', 'negara', 'kosong', 'upaya', 'perintah', 'republik', 'indonesia', 'isi', 'kas', 'negara', 'kosong', 'merdeka']\"\n",
      " \"['indonesia', 'atas', 'masalah', 'ekonomi', 'hadap', 'merdeka', 'salah', 'upaya', 'bangsa', 'indonesia', 'baik', 'ekonomi', 'merdeka']\"\n",
      " \"['sembunyi', 'tuju', 'perintah', 'kolonial', 'keluar', 'bijak', 'politik', 'etis', 'cipta', 'kalang', 'pegawai', 'milik', 'terampil', 'bayar', 'murah', 'bijak', 'dampak', 'positif', 'bangsa', 'indonesia']\"\n",
      " \"['putus', 'hubung', 'dagang', 'eropa', 'timur', 'bangsa', 'bangsa', 'barat', 'berlombalomba', 'cari', 'dunia', 'timur', 'nusantara', 'segi', 'politik', 'cari', 'dunia', 'timur', 'tuju']\"\n",
      " \"['rumus', 'kait', 'maksud', 'tuju', 'bentuk', 'negara', 'indonesia', 'merdeka', 'tuang']\"\n",
      " \"['peristiwa', 'rengasdengklok', 'rujuk', 'peristiwa']\"\n",
      " \"['motivasi', 'datang', 'bangsa', 'eropa', 'dunia', 'timur', 'slogan']\"\n",
      " \"['salah', 'timbul', 'nasionalisme', 'kawasan', 'benua', 'asia']\"\n",
      " \"['politik', 'etis', 'bawa', 'maju', 'bidang', 'didik', 'dorong', 'tumbuh', 'gera', 'nasional', 'gagas']\"\n",
      " \"['proklamasi', 'merdeka', '17', 'agustus', '1945', 'urai', 'aspek', 'sosial', 'ekonomi', 'politik', 'kenal', 'berfikir']\"\n",
      " \"['dampak', 'duduk', 'jepang', 'indonesia', 'organisasi', 'gera', 'nasional', 'indonesia']\"\n",
      " \"['nyata', 'merdeka', 'amerika', 'serikat', 'tuang']\"\n",
      " \"['1943', 'jepang', 'laksana', 'politik', 'lunak', 'indonesia']\"\n",
      " \"['dampak', 'proses', 'modernisasi', 'jepang', 'kawasan', 'asia', 'pasifik']\"\n",
      " \"['usaha', 'kaum', 'liberalisme', 'hapus', 'sistem', 'tanam', 'paksa', 'indonesia', 'hakikat']\"\n",
      " \"['pengaruh', 'gerak', 'timbul', 'nasionalisme', 'indonesia']\"\n",
      " \"['pikir', 'utama', 'gagas', 'politik', 'etis', 'anjur', 'theodorus', 'van', 'deventer', 'abad', '19']\"\n",
      " \"['salah', 'faktor', 'negeri', 'pengaruh', 'bangkit', 'nasionalisme', 'indonesia']\"\n",
      " \"['jatuh', 'konstantinopel', 'tangan', 'islam', 'turki', 'dorong', 'kembang', 'jelajah', 'samudera']\"\n",
      " \"['duduk', 'jepang', 'indonesia', 'tokoh', 'gera', 'nasional', 'sikap', 'kooperatif', 'jepang', 'bukti', 'bentuk', 'organisasi', 'pusat', 'tenaga', 'rakyat', 'putera', 'jepang', 'tuai', 'ir', 'soekarno', 'jepang', 'harap', 'organisasi', 'jadi', 'alat', 'dukung', 'perang', 'jepang', 'pasifik', 'nyata', 'tokoh', 'manfaat', 'organisasi']\"\n",
      " \"['perang', 'salib', 'perang', 'suci', 'orangorang', 'eropa', 'lawan', 'turki', 'seljuk', 'orangorang', 'arab', 'bawa', 'dampak', 'sejarah', 'dunia']\"\n",
      " \"['jatuh', 'kota', 'konstantinopel', 'tangan', 'turki', 'usmani', 'bawa', 'dampak']\"\n",
      " \"['nyata', 'sesuai', 'sikap', 'yogyakarta', 'proklamasi', 'merdeka', 'ri']\"\n",
      " \"['kembang', 'organisasi', 'gera', 'nasional', 'bagi', '3', 'periode', 'periode', 'periode', 'radikal', 'periode', 'moderat', 'periode', 'radikal', 'organisasi', 'gera', 'muncul', 'milik', 'asas', 'juang', 'sifat', 'nonkooperatif', 'nyata', 'faktor', 'dorong', 'lahir', 'organisasi', 'gera', 'sifat', 'nonkooperatif']\"\n",
      " \"['bangsa', 'kolonisator', 'bangsa']\"\n",
      " \"['kembang', 'pers', 'indonesia', 'abad', '20', 'andil', 'gera', 'nasional', 'sejarah', 'gera', 'nasional', 'surat', 'kabar', 'pengaruh', 'muncul', 'sadar', 'bangsa', 'indonesia', 'bintang', 'hindia', 'medan', 'priyayi', 'pers', 'peran', 'juang', 'bangsa', 'indonesia']\"\n",
      " \"['faktor', 'jepang', 'sempat', 'merdeka', 'ri', 'diri', 'bpupki']\"\n",
      " \"['dampak', 'infiltrasi', 'susup', 'tokohtokoh', 'isdv', 'sarekat', 'islam', 'si', 'pecah', 'si', 'merah', 'pusat', 'semarang', 'si', 'putih', 'pusat', 'yogyakarta', 'beda', 'si', 'ideologi', 'organisasi']\"\n",
      " \"['bangsa', 'indonesia', 'hasil', 'capai', 'merdeka', 'tanggal', '17', 'agustus', '1945', 'bangsa', 'indonesia', 'bebas', 'kuasa', 'bangsa', 'asing', 'negara', 'ri', 'dibagibagi', 'negaranegara', 'daerahdaerah', 'otonom', 'satu', 'negara', 'belanda', 'tuju', 'kecil', 'wilayah', 'kuasa', 'ri', 'picu', 'timbul', 'tempur', 'daerah', 'indonesia', 'contoh', 'tempur', 'surabaya', 'tempur', 'sebab', 'belanda']\"\n",
      " \"['tanggal', '6', 'agustus', '1945', 'bom', 'hiroshima', 'jepang', 'realisasi', 'janji', 'merdeka', 'jepang', 'salah', 'upaya', 'diri', 'ppki', 'bubar', 'bpupki', 'tanggal', '7', 'agustus', '1945', 'latar', 'diri', 'ppki']\"\n",
      " \"['gera', 'perintah', 'revolusioner', 'rakyat', 'indonesia', 'prri', 'gera', 'pisah', 'negara', 'indonesia', 'merdeka', 'muncul', 'gera', 'sebab']\"\n",
      " \"['masalah', 'golong', 'tua', 'golong', 'muda', 'melatarbelakangi', 'peristiwa', 'rengasdengklok']\"\n",
      " \"['drs', 'moh', 'hatta', 'lahir', 'tanggal', '12', 'agustus', '1902', 'daerah', 'bukittinggi', 'sumatera', 'barat', 'tinggal', 'tanggal', '14', 'maret', '1980', 'umur', 'injak', '77', 'hatta', 'juang', 'merdeka', 'indonesia', 'wakil', 'presiden', 'pimpin', 'indonesia', 'karno', 'hatta', 'milik', 'peran', 'proklamasi', 'merdeka']\"\n",
      " \"['ahmad', 'soebardjo', 'salah', 'tokoh', 'peristiwa', 'proklamasi', 'peran', 'soebardjo', 'peritiwa', 'proklamasi']\"\n",
      " \"['indische', 'partij', 'organisasi', 'gera', 'nasional', 'diri', 'tokoh', 'kenal', 'sebut', 'rangka', 'douwes', 'dekker', 'cipto', 'mangunkusumo', 'suwardi', 'suryaningrat', 'organisasi', 'diri', '1912', 'organisasi', 'sifat', 'politik', 'indische', 'partij', 'garis', 'politik', 'satu', 'duduk', 'multirasial', 'sebab']\"\n",
      " \"['rapat', 'susun', 'teks', 'proklamasi', 'laksana', 'rumah', 'laksamana', 'maeda', 'timbang']\"\n",
      " \"['gera', 'reformasi', 'indonesia', '1998', 'gera', 'baik', 'tatanan', 'masyarakat', 'bangsa', 'negara', 'sesuai', 'nilainilai', 'pancasila', 'uud', '1945', 'sebab', 'utama', 'gera']\"\n",
      " \"['dampak', 'negatif', 'pilih', 'kepala', 'daerah', 'langsung']\"\n",
      " \"['aa', 'maramis', 'wakilwakil', 'umat', 'protestan', 'katolik', 'wilayah', 'kuasa', 'angkat', 'laut', 'jepang', 'rat', 'kalimat', 'buka', 'undangundang', 'dasar', 'bunyi', '', 'tuhan', 'wajib', 'jalan', 'syariat', 'islam', 'pemelukpemeluknya', '', 'sadar', 'kalimat', 'ikat', 'cantum', 'tetap', 'buka', 'dasar', 'diri', 'negara', '', 'diskriminasi', '', 'golong', 'minoritas', 'buku', 'autobiografi', 'hatta', '', 'diskriminasi', '', 'tetap', 'suka', 'diri', 'republik', 'indonesia', 'bangsa', 'indonesia', 'sadar', 'perihal', 'majemuk', 'rakyat', 'akibat', 'paksa', 'agama', 'orang', 'agama']\"\n",
      " \"['faktor', 'jepang', 'luas', 'wilayah', 'indonesia']\"\n",
      " \"['tanggal', '6', 'agustus', '1945', 'bom', 'hiroshima', 'jepang', 'realisasi', 'janji', 'merdeka', 'jepang', 'salah', 'upaya', 'diri', 'ppki', 'bubar', 'bpupki', 'tanggal', '7', 'agustus', '1945', 'latar', 'bubar', 'bpupki']\"\n",
      " \"['faktor', 'utama', 'sebab', 'peristiwa', 'rengasdengklok']\"\n",
      " \"['tanggal', '16', 'agustus', '1945', 'soekarno', 'hatta', 'fatmawati', 'guntur', 'culik', 'pemuda', 'rengasdengklok', 'culi', 'hindar', 'pengaruh', 'jepang', 'soekarno', 'hatta', 'peran', 'soebardjo', 'peristiwa', 'rengasdengklok']\"\n",
      " \"['sukarni', 'salah', 'tokoh', 'proklamator', 'merdeka', 'indonesia', 'gelar', 'pahlawan', 'nasional', 'indonesia', 'sukarni', 'semat', 'joko', 'widodo', 'tanggal', '7', 'november', '2014', 'wakil', 'keluarga', 'istana', 'negara', 'jakarta', 'sukarni', 'milik', 'peran', 'proklamasi', 'merdeka']\"\n",
      " \"['strategi', 'perintah', 'undang', 'aksi', 'militer', 'negara', 'merdeka', 'perintah', 'bentuk', 'badan', 'aman', 'rakyat', 'bkr', 'bentuk', 'tentara', 'anggap', 'provokasi', 'negara', 'timbul', 'musuh', 'perkembanganya', 'bentuk', 'tentara', 'anggap']\"\n",
      " \"['dagang', 'arab', 'nusantara', 'transaksi', 'dagang', 'pribumi', 'dagang', 'hindu', 'cina', 'dagang', 'indonesia', 'tuju', 'cari', 'rempahrempah', 'komoditi', 'utama', 'popular', 'datang', 'dagang', 'arab', 'tanda']\"\n",
      " \"['faktor', 'dorong', 'jelajah', 'samudra', 'bangsa', 'eropa']\"\n",
      " \"['salah', 'kota', 'pusat', 'dagang', 'kenal', 'ramai', 'hubung', 'dunia', 'barat', 'timur', 'eropa']\"\n",
      " \"['1453', 'konstantinopel', 'asai', 'sultan', 'turki', 'utsmani', 'ottoman', 'dampak', 'kuasa', 'konstantinopel', 'sultan', 'turki', 'utsmani', 'dagang', 'rempahrempah', 'bangsa', 'eropa']\"\n",
      " \"['kembang', 'agama', 'budaya', 'hindubuddha', 'indonesia', 'akibat', 'ubah', 'hidup', 'masyarakat', 'indonesia', 'ubah', 'hidup', 'masyarakat', 'masuk', 'budaya', 'hindu', 'buddha', 'indonesia', 'bidang', 'budaya']\"\n",
      " \"['tantang', 'datang', 'cornelis', 'de', 'houtman', 'bangsa', 'eropa', 'banten']\"\n",
      " \"['islam', 'masuk', 'indonesia', 'bawa', 'dagang', 'saudagar', 'arab', 'india', 'sia', 'dagang', 'baur', 'orang', 'jawa', 'melayu', 'sunda', 'suku', 'bangsa', 'tinggal', 'tetap', 'wilayah', 'masyarakat', 'mudah', 'terima', 'masuk', 'agama', 'budaya', 'islam', 'bukti', 'islam', 'masuk', 'indonesia']\"\n",
      " \"['ferdinand', 'magellan', 'pimpin', 'layar', 'bangsa', 'spanyol', '1519', 'layar', 'sanlucar', 'de', 'barrameda', 'spanyol', 'arah', 'barat', 'selatan', 'benua', 'amerika', '1520', 'magellan', 'capai', 'pulau', 'filipina', 'labuh', 'nasib', 'magellan', 'untung', 'tinggal', '1521', 'faktor', 'sebab', 'tinggal', 'magellan']\"\n",
      " \"['pengaruh', 'budaya', 'hindu', 'india', 'sebab', 'kuta', 'kelompok', 'masyarakat', 'bentuk', 'suku', 'ubah', 'raja', 'raja', 'kudungga', 'anggap', 'pengaruh', 'budaya', 'india', 'dasar']\"\n",
      " \"['situs', 'manusia', 'purba', 'sangir', 'tetap', 'unesco', 'waris', 'budaya', 'dunia', 'bangga', 'bangsa', 'indonesia', 'aku', 'dasar', 'timbang', 'kompleks']\"\n",
      " \"['lingkung', 'dekat', 'gedung', 'sekolah', 'rumah', 'tinggal', 'perabot', 'alat', 'bantu', 'buat', 'makhluk', 'hidup', 'alam', 'semesta', 'angkasa', 'raya', 'bumi', 'isi']\"]\n"
     ]
    }
   ],
   "source": [
    "print(x)"
   ]
  },
  {
   "cell_type": "code",
   "execution_count": 7,
   "metadata": {},
   "outputs": [],
   "source": [
    "LE = LabelEncoder()\n",
    "y_le = LE.fit_transform(y)"
   ]
  },
  {
   "cell_type": "code",
   "execution_count": 8,
   "metadata": {},
   "outputs": [
    {
     "name": "stdout",
     "output_type": "stream",
     "text": [
      "Feature Names:  ['12', '14', '1453', '1519', '1520', '1521', '16', '17', '19', '1902', '1912', '1943', '1945', '1961', '1967', '1980', '1998', '20', '2014', '77', 'aa', 'abad', 'agama', 'agustus', 'ahmad', 'akibat', 'aksi', 'aku', 'alam', 'alat', 'aman', 'amerika', 'andil', 'anggap', 'angkasa', 'angkat', 'anjur', 'arab', 'arah', 'asai', 'asas', 'asean', 'asia', 'asing', 'aspek', 'atas', 'autobiografi', 'badan', 'bagi', 'baik', 'bangga', 'bangkit', 'bangkok', 'bangsa', 'banten', 'bantu', 'barat', 'barrameda', 'baur', 'bawa', 'bayar', 'bebas', 'beda', 'belanda', 'bentuk', 'benua', 'beograd', 'berfikir', 'berlombalomba', 'bidang', 'bijak', 'bintang', 'bkr', 'blok', 'bom', 'bpupki', 'buat', 'bubar', 'budaya', 'buddha', 'buka', 'bukittinggi', 'bukti', 'buku', 'bumi', 'bunyi', 'cantum', 'capai', 'cari', 'cina', 'cipta', 'cipto', 'contoh', 'cornelis', 'culi', 'culik', 'daerah', 'daerahdaerah', 'dagang', 'dampak', 'dasar', 'datang', 'de', 'dekat', 'dekker', 'deklarasi', 'deventer', 'dibagibagi', 'didik', 'diri', 'diskriminasi', 'dorong', 'douwes', 'drs', 'duduk', 'dukung', 'dunia', 'ekonomi', 'eropa', 'etis', 'faktor', 'fatmawati', 'ferdinand', 'filipina', 'gagas', 'garis', 'gedung', 'gelar', 'gera', 'gerak', 'golong', 'guntur', 'hadap', 'hakikat', 'hapus', 'harap', 'hasil', 'hatta', 'hidup', 'hindar', 'hindia', 'hindu', 'hindubuddha', 'hiroshima', 'houtman', 'hubung', 'ideologi', 'ikat', 'india', 'indische', 'indonesia', 'infiltrasi', 'injak', 'ir', 'isdv', 'isi', 'islam', 'istana', 'jadi', 'jakarta', 'jalan', 'janji', 'jatuh', 'jawa', 'jelajah', 'jepang', 'joko', 'juang', 'kabar', 'kacau', 'kait', 'kalang', 'kalimat', 'karno', 'kas', 'katolik', 'kaum', 'kawasan', 'kecil', 'kelompok', 'keluar', 'keluarga', 'kembang', 'kenal', 'kepala', 'kolonial', 'kolonisator', 'komoditi', 'kompleks', 'kondisi', 'konferensi', 'konstantinopel', 'kooperatif', 'kosong', 'kota', 'kuasa', 'kudungga', 'kuta', 'labuh', 'lahir', 'laksamana', 'laksana', 'langsung', 'latar', 'laut', 'lawan', 'layar', 'liberalisme', 'lingkung', 'luas', 'lunak', 'maeda', 'magellan', 'majemuk', 'maju', 'makhluk', 'maksud', 'manfaat', 'mangunkusumo', 'manusia', 'maramis', 'maret', 'masalah', 'masuk', 'masyarakat', 'medan', 'melatarbelakangi', 'melayu', 'merah', 'merdeka', 'milik', 'militer', 'minoritas', 'moderat', 'modernisasi', 'moh', 'motivasi', 'muda', 'mudah', 'multirasial', 'muncul', 'murah', 'musuh', 'nasib', 'nasional', 'nasionalisme', 'negara', 'negaranegara', 'negatif', 'negeri', 'nilainilai', 'non', 'nonkooperatif', 'november', 'nusantara', 'nyata', 'orang', 'orangorang', 'organisasi', 'otonom', 'ottoman', 'pahlawan', 'paksa', 'pancasila', 'partij', 'pasifik', 'pecah', 'pegawai', 'pemelukpemeluknya', 'pemuda', 'pengaruh', 'perabot', 'peran', 'perang', 'perihal', 'perintah', 'periode', 'peristiwa', 'peritiwa', 'perkembanganya', 'pers', 'picu', 'pikir', 'pilih', 'pimpin', 'pisah', 'politik', 'popular', 'positif', 'ppki', 'presiden', 'pribumi', 'priyayi', 'proklamasi', 'proklamator', 'proses', 'protestan', 'provokasi', 'prri', 'pulau', 'purba', 'pusat', 'putera', 'putih', 'putus', 'radikal', 'raja', 'rakyat', 'ramai', 'rangka', 'rapat', 'rat', 'raya', 'realisasi', 'reformasi', 'regional', 'rempahrempah', 'rengasdengklok', 'republik', 'revolusioner', 'ri', 'rujuk', 'rumah', 'rumus', 'sadar', 'salah', 'salib', 'samudera', 'samudra', 'sangir', 'sanlucar', 'sarekat', 'satu', 'saudagar', 'sebab', 'sebut', 'segi', 'sejarah', 'sekolah', 'selatan', 'seljuk', 'semarang', 'semat', 'sembunyi', 'semesta', 'sempat', 'serikat', 'sesuai', 'si', 'sia', 'sifat', 'sikap', 'sistem', 'situs', 'slogan', 'soebardjo', 'soekarno', 'sosial', 'spanyol', 'strategi', 'suci', 'suka', 'sukarni', 'suku', 'sultan', 'sumatera', 'sunda', 'surabaya', 'surat', 'suryaningrat', 'susun', 'susup', 'suwardi', 'syariat', 'tanam', 'tanda', 'tangan', 'tanggal', 'tantang', 'tatanan', 'teks', 'tempur', 'tenaga', 'tenggara', 'tentara', 'terampil', 'terima', 'tetap', 'theodorus', 'timbang', 'timbul', 'timur', 'tinggal', 'tokoh', 'tokohtokoh', 'transaksi', 'tua', 'tuai', 'tuang', 'tuhan', 'tuju', 'tumbuh', 'turki', 'ubah', 'umat', 'umur', 'undang', 'undangundang', 'unesco', 'untung', 'upaya', 'urai', 'usaha', 'usmani', 'utama', 'utsmani', 'uud', 'van', 'wajib', 'wakil', 'wakilwakil', 'waris', 'widodo', 'wilayah', 'yogyakarta']\n",
      "Penilaian dari TF-IDF:   (0, 400)\t0.19490601282413203\n",
      "  (0, 286)\t0.18724894560321206\n",
      "  (0, 336)\t0.2586696565500905\n",
      "  (0, 14)\t0.2850289159393567\n",
      "  (0, 23)\t0.19490601282413203\n",
      "  (0, 377)\t0.19490601282413203\n",
      "  (0, 52)\t0.2850289159393567\n",
      "  (0, 105)\t0.2850289159393567\n",
      "  (0, 100)\t0.21360820499247818\n",
      "  (0, 64)\t0.20358687967164574\n",
      "  (0, 383)\t0.2850289159393567\n",
      "  (0, 42)\t0.23996746438174435\n",
      "  (0, 315)\t0.2850289159393567\n",
      "  (0, 258)\t0.38981202564826406\n",
      "  (0, 41)\t0.2850289159393567\n",
      "  (1, 173)\t0.2649989428891053\n",
      "  (1, 124)\t0.24583913411825742\n",
      "  (1, 13)\t0.29200317665450876\n",
      "  (1, 66)\t0.29200317665450876\n",
      "  (1, 190)\t0.29200317665450876\n",
      "  (1, 182)\t0.21883490035285402\n",
      "  (1, 247)\t0.2649989428891053\n",
      "  (1, 73)\t0.29200317665450876\n",
      "  (1, 251)\t0.29200317665450876\n",
      "  (1, 128)\t0.18481358931601158\n",
      "  :\t:\n",
      "  (56, 78)\t0.22149294552898727\n",
      "  (56, 387)\t0.2357441865928245\n",
      "  (56, 389)\t0.2541172318370567\n",
      "  (56, 116)\t0.20984883373771238\n",
      "  (56, 53)\t0.1472073903941359\n",
      "  (56, 150)\t0.12403014129373265\n",
      "  (56, 100)\t0.20984883373771238\n",
      "  (57, 84)\t0.24310779063036023\n",
      "  (57, 312)\t0.24310779063036023\n",
      "  (57, 34)\t0.24310779063036023\n",
      "  (57, 344)\t0.24310779063036023\n",
      "  (57, 28)\t0.24310779063036023\n",
      "  (57, 215)\t0.24310779063036023\n",
      "  (57, 76)\t0.24310779063036023\n",
      "  (57, 55)\t0.24310779063036023\n",
      "  (57, 271)\t0.24310779063036023\n",
      "  (57, 338)\t0.24310779063036023\n",
      "  (57, 126)\t0.24310779063036023\n",
      "  (57, 103)\t0.24310779063036023\n",
      "  (57, 208)\t0.24310779063036023\n",
      "  (57, 138)\t0.22062536532393806\n",
      "  (57, 322)\t0.22062536532393806\n",
      "  (57, 392)\t0.1923008592165921\n",
      "  (57, 29)\t0.22062536532393806\n",
      "  (57, 155)\t0.22062536532393806\n",
      "Mapping dari Feature Names ke Penilaian: {'asean': 41, 'organisasi': 258, 'regional': 315, 'asia': 42, 'tenggara': 383, 'bentuk': 64, 'dasar': 100, 'deklarasi': 105, 'bangkok': 52, 'tanggal': 377, 'agustus': 23, '1967': 14, 'segi': 336, 'politik': 286, 'tuju': 400, 'gera': 128, 'non': 251, 'blok': 73, 'negaranegara': 247, 'kembang': 182, 'konferensi': 190, 'beograd': 66, '1961': 13, 'gagas': 124, 'karno': 173, 'salah': 325, 'sebab': 334, 'kacau': 169, 'kondisi': 189, 'ekonomi': 117, 'indonesia': 150, 'merdeka': 229, 'kas': 174, 'negara': 246, 'kosong': 193, 'upaya': 410, 'perintah': 275, 'republik': 318, 'isi': 155, 'atas': 45, 'masalah': 222, 'hadap': 132, 'bangsa': 53, 'baik': 49, 'sembunyi': 343, 'kolonial': 185, 'keluar': 180, 'bijak': 70, 'etis': 119, 'cipta': 90, 'kalang': 171, 'pegawai': 267, 'milik': 230, 'terampil': 385, 'bayar': 60, 'murah': 241, 'dampak': 99, 'positif': 288, 'putus': 304, 'hubung': 145, 'dagang': 98, 'eropa': 118, 'timur': 391, 'barat': 56, 'berlombalomba': 68, 'cari': 88, 'dunia': 116, 'nusantara': 254, 'rumus': 323, 'kait': 170, 'maksud': 216, 'tuang': 398, 'peristiwa': 277, 'rengasdengklok': 317, 'rujuk': 321, 'motivasi': 236, 'datang': 101, 'slogan': 354, 'timbul': 390, 'nasionalisme': 245, 'kawasan': 177, 'benua': 65, 'bawa': 59, 'maju': 214, 'bidang': 69, 'didik': 108, 'dorong': 111, 'tumbuh': 401, 'nasional': 244, 'proklamasi': 293, '17': 7, '1945': 12, 'urai': 411, 'aspek': 44, 'sosial': 357, 'kenal': 183, 'berfikir': 67, 'duduk': 114, 'jepang': 165, 'nyata': 255, 'amerika': 31, 'serikat': 346, '1943': 11, 'laksana': 201, 'lunak': 210, 'proses': 295, 'modernisasi': 234, 'pasifik': 265, 'usaha': 412, 'kaum': 176, 'liberalisme': 207, 'hapus': 134, 'sistem': 352, 'tanam': 374, 'paksa': 262, 'hakikat': 133, 'pengaruh': 270, 'gerak': 129, 'pikir': 282, 'utama': 414, 'anjur': 36, 'theodorus': 388, 'van': 417, 'deventer': 106, 'abad': 21, '19': 8, 'faktor': 120, 'negeri': 249, 'bangkit': 51, 'jatuh': 162, 'konstantinopel': 191, 'tangan': 376, 'islam': 156, 'turki': 402, 'jelajah': 164, 'samudera': 327, 'tokoh': 393, 'sikap': 351, 'kooperatif': 192, 'bukti': 82, 'pusat': 301, 'tenaga': 382, 'rakyat': 307, 'putera': 302, 'tuai': 397, 'ir': 153, 'soekarno': 356, 'harap': 135, 'jadi': 158, 'alat': 29, 'dukung': 115, 'perang': 273, 'manfaat': 217, 'salib': 326, 'suci': 360, 'orangorang': 257, 'lawan': 205, 'seljuk': 340, 'arab': 37, 'sejarah': 337, 'kota': 194, 'usmani': 413, 'sesuai': 347, 'yogyakarta': 424, 'ri': 320, 'bagi': 48, 'periode': 276, 'radikal': 305, 'moderat': 233, 'muncul': 240, 'asas': 40, 'juang': 167, 'sifat': 350, 'nonkooperatif': 252, 'lahir': 199, 'kolonisator': 186, 'pers': 280, '20': 17, 'andil': 32, 'surat': 368, 'kabar': 168, 'sadar': 324, 'bintang': 71, 'hindia': 140, 'medan': 225, 'priyayi': 292, 'peran': 272, 'sempat': 345, 'diri': 109, 'bpupki': 75, 'infiltrasi': 151, 'susup': 371, 'tokohtokoh': 394, 'isdv': 154, 'sarekat': 331, 'si': 348, 'pecah': 266, 'merah': 228, 'semarang': 341, 'putih': 303, 'beda': 62, 'ideologi': 146, 'hasil': 136, 'capai': 87, 'bebas': 61, 'kuasa': 195, 'asing': 43, 'dibagibagi': 107, 'daerahdaerah': 97, 'otonom': 259, 'satu': 332, 'belanda': 63, 'kecil': 178, 'wilayah': 423, 'picu': 281, 'tempur': 381, 'daerah': 96, 'contoh': 92, 'surabaya': 367, 'bom': 74, 'hiroshima': 143, 'realisasi': 313, 'janji': 161, 'ppki': 289, 'bubar': 77, 'latar': 203, 'revolusioner': 319, 'prri': 298, 'pisah': 285, 'golong': 130, 'tua': 396, 'muda': 237, 'melatarbelakangi': 226, 'drs': 113, 'moh': 235, 'hatta': 137, '12': 0, '1902': 9, 'bukittinggi': 81, 'sumatera': 365, 'tinggal': 392, '14': 1, 'maret': 221, '1980': 15, 'umur': 405, 'injak': 152, '77': 19, 'wakil': 419, 'presiden': 290, 'pimpin': 284, 'ahmad': 24, 'soebardjo': 355, 'peritiwa': 278, 'indische': 149, 'partij': 264, 'sebut': 335, 'rangka': 309, 'douwes': 112, 'dekker': 104, 'cipto': 91, 'mangunkusumo': 218, 'suwardi': 372, 'suryaningrat': 369, '1912': 10, 'garis': 125, 'multirasial': 239, 'rapat': 310, 'susun': 370, 'teks': 380, 'rumah': 322, 'laksamana': 200, 'maeda': 211, 'timbang': 389, 'reformasi': 314, '1998': 16, 'tatanan': 379, 'masyarakat': 224, 'nilainilai': 250, 'pancasila': 263, 'uud': 416, 'negatif': 248, 'pilih': 283, 'kepala': 184, 'langsung': 202, 'aa': 20, 'maramis': 220, 'wakilwakil': 420, 'umat': 404, 'protestan': 296, 'katolik': 175, 'angkat': 35, 'laut': 204, 'rat': 311, 'kalimat': 172, 'buka': 80, 'undangundang': 407, 'bunyi': 85, 'tuhan': 399, 'wajib': 418, 'jalan': 160, 'syariat': 373, 'pemelukpemeluknya': 268, 'ikat': 147, 'cantum': 86, 'tetap': 387, 'diskriminasi': 110, 'minoritas': 232, 'buku': 83, 'autobiografi': 46, 'suka': 361, 'perihal': 274, 'majemuk': 213, 'akibat': 25, 'agama': 22, 'orang': 256, 'luas': 209, '16': 6, 'fatmawati': 121, 'guntur': 131, 'culik': 95, 'pemuda': 269, 'culi': 94, 'hindar': 139, 'sukarni': 362, 'proklamator': 294, 'gelar': 127, 'pahlawan': 261, 'semat': 342, 'joko': 166, 'widodo': 422, 'november': 253, '2014': 18, 'keluarga': 181, 'istana': 157, 'jakarta': 159, 'strategi': 359, 'undang': 406, 'aksi': 26, 'militer': 231, 'badan': 47, 'aman': 30, 'bkr': 72, 'tentara': 384, 'anggap': 33, 'provokasi': 297, 'musuh': 242, 'perkembanganya': 279, 'transaksi': 395, 'pribumi': 291, 'hindu': 141, 'cina': 89, 'rempahrempah': 316, 'komoditi': 187, 'popular': 287, 'tanda': 375, 'samudra': 328, 'ramai': 308, '1453': 2, 'asai': 39, 'sultan': 364, 'utsmani': 415, 'ottoman': 260, 'budaya': 78, 'hindubuddha': 142, 'ubah': 403, 'hidup': 138, 'masuk': 223, 'buddha': 79, 'tantang': 378, 'cornelis': 93, 'de': 102, 'houtman': 144, 'banten': 54, 'saudagar': 333, 'india': 148, 'sia': 349, 'baur': 58, 'jawa': 163, 'melayu': 227, 'sunda': 366, 'suku': 363, 'mudah': 238, 'terima': 386, 'ferdinand': 122, 'magellan': 212, 'layar': 206, 'spanyol': 358, '1519': 3, 'sanlucar': 330, 'barrameda': 57, 'arah': 38, 'selatan': 339, '1520': 4, 'pulau': 299, 'filipina': 123, 'labuh': 198, 'nasib': 243, 'untung': 409, '1521': 5, 'kuta': 197, 'kelompok': 179, 'raja': 306, 'kudungga': 196, 'situs': 353, 'manusia': 219, 'purba': 300, 'sangir': 329, 'unesco': 408, 'waris': 421, 'bangga': 50, 'aku': 27, 'kompleks': 188, 'lingkung': 208, 'dekat': 103, 'gedung': 126, 'sekolah': 338, 'perabot': 271, 'bantu': 55, 'buat': 76, 'makhluk': 215, 'alam': 28, 'semesta': 344, 'angkasa': 34, 'raya': 312, 'bumi': 84}\n"
     ]
    },
    {
     "name": "stderr",
     "output_type": "stream",
     "text": [
      "C:\\Users\\DELL\\AppData\\Local\\Programs\\Python\\Python39\\lib\\site-packages\\sklearn\\utils\\deprecation.py:87: FutureWarning: Function get_feature_names is deprecated; get_feature_names is deprecated in 1.0 and will be removed in 1.2. Please use get_feature_names_out instead.\n",
      "  warnings.warn(msg, category=FutureWarning)\n"
     ]
    }
   ],
   "source": [
    "tfidf = TfidfVectorizer()\n",
    "x_tf = tfidf.fit_transform(x)\n",
    "\n",
    "print('Feature Names: ', tfidf.get_feature_names())\n",
    "print('Penilaian dari TF-IDF:', x_tf)\n",
    "print('Mapping dari Feature Names ke Penilaian:', tfidf.vocabulary_)\n",
    "\n",
    "x_tf = x_tf.toarray()"
   ]
  },
  {
   "cell_type": "code",
   "execution_count": 9,
   "metadata": {},
   "outputs": [
    {
     "name": "stdout",
     "output_type": "stream",
     "text": [
      "Counter({'C4': 37, 'C5': 15, 'C6': 6})\n",
      "------------\n",
      "------------\n",
      "Counter({0: 37, 1: 37, 2: 37})\n"
     ]
    }
   ],
   "source": [
    "print(Counter(y))\n",
    "print(\"------------\")\n",
    "\n",
    "#define oversampling strategy\n",
    "oversample = SMOTE()\n",
    "\n",
    "#fit and apply the transform\n",
    "x_over, y_over = oversample.fit_resample(x_tf, y_le)\n",
    "\n",
    "#summarize class distribution\n",
    "print(\"------------\")\n",
    "print(Counter(y_over))"
   ]
  },
  {
   "cell_type": "code",
   "execution_count": 10,
   "metadata": {},
   "outputs": [
    {
     "name": "stdout",
     "output_type": "stream",
     "text": [
      "[[0.         0.         0.         ... 0.         0.         0.        ]\n",
      " [0.         0.         0.         ... 0.         0.         0.        ]\n",
      " [0.         0.         0.         ... 0.         0.         0.        ]\n",
      " ...\n",
      " [0.         0.         0.         ... 0.         0.         0.        ]\n",
      " [0.         0.         0.         ... 0.         0.05762328 0.        ]\n",
      " [0.         0.         0.         ... 0.         0.         0.        ]]\n"
     ]
    }
   ],
   "source": [
    "print(x_over)"
   ]
  },
  {
   "cell_type": "code",
   "execution_count": 11,
   "metadata": {},
   "outputs": [
    {
     "name": "stdout",
     "output_type": "stream",
     "text": [
      "[0 0 0 1 0 0 0 0 0 1 0 2 1 0 0 1 1 1 2 0 1 0 0 0 0 0 0 1 1 0 0 0 0 0 0 0 0\n",
      " 0 1 1 2 1 0 0 0 0 1 0 0 0 0 0 1 2 1 0 2 2 1 1 1 1 1 1 1 1 1 1 1 1 1 1 1 1\n",
      " 1 1 1 1 1 1 2 2 2 2 2 2 2 2 2 2 2 2 2 2 2 2 2 2 2 2 2 2 2 2 2 2 2 2 2 2 2]\n"
     ]
    }
   ],
   "source": [
    "print(y_over)"
   ]
  },
  {
   "cell_type": "code",
   "execution_count": 12,
   "metadata": {},
   "outputs": [
    {
     "data": {
      "image/png": "[encoded data removed]",
      "text/plain": [
       "<Figure size 1080x720 with 1 Axes>"
      ]
     },
     "metadata": {
      "needs_background": "light"
     },
     "output_type": "display_data"
    }
   ],
   "source": [
    "import collections\n",
    "import matplotlib.pyplot as plt\n",
    "import seaborn as sns\n",
    "w = collections.Counter(y)\n",
    "plt.figure(figsize=(15,10))\n",
    "plt.bar(w.keys(), w.values())\n",
    "plt.savefig(r\"C:\\Users\\DELL\\Documents\\Active Folder\\COOLYAH\\SMT 8\\TA\\source code\\before2.png\")\n",
    "plt.show()"
   ]
  },
  {
   "cell_type": "code",
   "execution_count": 13,
   "metadata": {},
   "outputs": [
    {
     "data": {
      "image/png": "[encoded data removed]",
      "text/plain": [
       "<Figure size 1080x720 with 1 Axes>"
      ]
     },
     "metadata": {
      "needs_background": "light"
     },
     "output_type": "display_data"
    }
   ],
   "source": [
    "import collections\n",
    "import matplotlib.pyplot as plt\n",
    "import seaborn as sns\n",
    "w = collections.Counter(y_over)\n",
    "plt.figure(figsize=(15,10))\n",
    "plt.bar(w.keys(), w.values())\n",
    "plt.savefig(r\"C:\\Users\\DELL\\Documents\\Active Folder\\COOLYAH\\SMT 8\\TA\\source code\\after2.png\")\n",
    "plt.show()"
   ]
  },
  {
   "cell_type": "code",
   "execution_count": 14,
   "metadata": {},
   "outputs": [],
   "source": [
    "#xtrain, xtest, ytrain, ytest = train_test_split(x_over, y_over, test_size = 0.3)"
   ]
  },
  {
   "cell_type": "code",
   "execution_count": 15,
   "metadata": {},
   "outputs": [
    {
     "name": "stderr",
     "output_type": "stream",
     "text": [
      "findfont: Font family ['normal'] not found. Falling back to DejaVu Sans.\n"
     ]
    },
    {
     "name": "stdout",
     "output_type": "stream",
     "text": [
      "KFold(n_splits=10, random_state=None, shuffle=False)\n",
      "TRAIN: [ 6  7  8  9 10 11 12 13 14 15 16 17 18 19 20 21 22 23 24 25 26 27 28 29\n",
      " 30 31 32 33 34 35 36 37 38 39 40 41 42 43 44 45 46 47 48 49 50 51 52 53\n",
      " 54 55 56 57] TEST: [0 1 2 3 4 5]\n"
     ]
    },
    {
     "data": {
      "image/png": "[encoded data removed]",
      "text/plain": [
       "<Figure size 360x576 with 1 Axes>"
      ]
     },
     "metadata": {
      "needs_background": "light"
     },
     "output_type": "display_data"
    },
    {
     "name": "stdout",
     "output_type": "stream",
     "text": [
      "TRAIN: [ 0  1  2  3  4  5 12 13 14 15 16 17 18 19 20 21 22 23 24 25 26 27 28 29\n",
      " 30 31 32 33 34 35 36 37 38 39 40 41 42 43 44 45 46 47 48 49 50 51 52 53\n",
      " 54 55 56 57] TEST: [ 6  7  8  9 10 11]\n"
     ]
    },
    {
     "data": {
      "image/png": "[encoded data removed]",
      "text/plain": [
       "<Figure size 360x576 with 1 Axes>"
      ]
     },
     "metadata": {
      "needs_background": "light"
     },
     "output_type": "display_data"
    },
    {
     "name": "stdout",
     "output_type": "stream",
     "text": [
      "TRAIN: [ 0  1  2  3  4  5  6  7  8  9 10 11 18 19 20 21 22 23 24 25 26 27 28 29\n",
      " 30 31 32 33 34 35 36 37 38 39 40 41 42 43 44 45 46 47 48 49 50 51 52 53\n",
      " 54 55 56 57] TEST: [12 13 14 15 16 17]\n"
     ]
    },
    {
     "data": {
      "image/png": "[encoded data removed]",
      "text/plain": [
       "<Figure size 360x576 with 1 Axes>"
      ]
     },
     "metadata": {
      "needs_background": "light"
     },
     "output_type": "display_data"
    },
    {
     "name": "stdout",
     "output_type": "stream",
     "text": [
      "TRAIN: [ 0  1  2  3  4  5  6  7  8  9 10 11 12 13 14 15 16 17 24 25 26 27 28 29\n",
      " 30 31 32 33 34 35 36 37 38 39 40 41 42 43 44 45 46 47 48 49 50 51 52 53\n",
      " 54 55 56 57] TEST: [18 19 20 21 22 23]\n"
     ]
    },
    {
     "data": {
      "image/png": "[encoded data removed]",
      "text/plain": [
       "<Figure size 360x576 with 1 Axes>"
      ]
     },
     "metadata": {
      "needs_background": "light"
     },
     "output_type": "display_data"
    },
    {
     "name": "stdout",
     "output_type": "stream",
     "text": [
      "TRAIN: [ 0  1  2  3  4  5  6  7  8  9 10 11 12 13 14 15 16 17 18 19 20 21 22 23\n",
      " 30 31 32 33 34 35 36 37 38 39 40 41 42 43 44 45 46 47 48 49 50 51 52 53\n",
      " 54 55 56 57] TEST: [24 25 26 27 28 29]\n"
     ]
    },
    {
     "data": {
      "image/png": "[encoded data removed]",
      "text/plain": [
       "<Figure size 360x576 with 1 Axes>"
      ]
     },
     "metadata": {
      "needs_background": "light"
     },
     "output_type": "display_data"
    },
    {
     "name": "stdout",
     "output_type": "stream",
     "text": [
      "TRAIN: [ 0  1  2  3  4  5  6  7  8  9 10 11 12 13 14 15 16 17 18 19 20 21 22 23\n",
      " 24 25 26 27 28 29 36 37 38 39 40 41 42 43 44 45 46 47 48 49 50 51 52 53\n",
      " 54 55 56 57] TEST: [30 31 32 33 34 35]\n"
     ]
    },
    {
     "data": {
      "image/png": "[encoded data removed]",
      "text/plain": [
       "<Figure size 360x576 with 1 Axes>"
      ]
     },
     "metadata": {
      "needs_background": "light"
     },
     "output_type": "display_data"
    },
    {
     "name": "stdout",
     "output_type": "stream",
     "text": [
      "TRAIN: [ 0  1  2  3  4  5  6  7  8  9 10 11 12 13 14 15 16 17 18 19 20 21 22 23\n",
      " 24 25 26 27 28 29 30 31 32 33 34 35 42 43 44 45 46 47 48 49 50 51 52 53\n",
      " 54 55 56 57] TEST: [36 37 38 39 40 41]\n"
     ]
    },
    {
     "data": {
      "image/png": "[encoded data removed]",
      "text/plain": [
       "<Figure size 360x576 with 1 Axes>"
      ]
     },
     "metadata": {
      "needs_background": "light"
     },
     "output_type": "display_data"
    },
    {
     "name": "stdout",
     "output_type": "stream",
     "text": [
      "TRAIN: [ 0  1  2  3  4  5  6  7  8  9 10 11 12 13 14 15 16 17 18 19 20 21 22 23\n",
      " 24 25 26 27 28 29 30 31 32 33 34 35 36 37 38 39 40 41 48 49 50 51 52 53\n",
      " 54 55 56 57] TEST: [42 43 44 45 46 47]\n"
     ]
    },
    {
     "data": {
      "image/png": "[encoded data removed]",
      "text/plain": [
       "<Figure size 360x576 with 1 Axes>"
      ]
     },
     "metadata": {
      "needs_background": "light"
     },
     "output_type": "display_data"
    },
    {
     "name": "stdout",
     "output_type": "stream",
     "text": [
      "TRAIN: [ 0  1  2  3  4  5  6  7  8  9 10 11 12 13 14 15 16 17 18 19 20 21 22 23\n",
      " 24 25 26 27 28 29 30 31 32 33 34 35 36 37 38 39 40 41 42 43 44 45 46 47\n",
      " 53 54 55 56 57] TEST: [48 49 50 51 52]\n"
     ]
    },
    {
     "data": {
      "image/png": "[encoded data removed]",
      "text/plain": [
       "<Figure size 360x576 with 1 Axes>"
      ]
     },
     "metadata": {
      "needs_background": "light"
     },
     "output_type": "display_data"
    },
    {
     "name": "stdout",
     "output_type": "stream",
     "text": [
      "TRAIN: [ 0  1  2  3  4  5  6  7  8  9 10 11 12 13 14 15 16 17 18 19 20 21 22 23\n",
      " 24 25 26 27 28 29 30 31 32 33 34 35 36 37 38 39 40 41 42 43 44 45 46 47\n",
      " 48 49 50 51 52] TEST: [53 54 55 56 57]\n"
     ]
    },
    {
     "data": {
      "image/png": "[encoded data removed]",
      "text/plain": [
       "<Figure size 360x576 with 1 Axes>"
      ]
     },
     "metadata": {
      "needs_background": "light"
     },
     "output_type": "display_data"
    }
   ],
   "source": [
    "#sebelum smote\n",
    "import numpy as np\n",
    "from sklearn.model_selection import KFold\n",
    "X = x_tf\n",
    "y = y_le\n",
    "kf = KFold(n_splits=10)\n",
    "kf.get_n_splits(X)\n",
    "\n",
    "font = {'family' : 'normal',\n",
    "        'weight' : 'bold',\n",
    "        'size'   : 8}\n",
    "print(kf)\n",
    "KFold(n_splits=10, random_state=None, shuffle=True)\n",
    "for train_index, test_index in kf.split(X):\n",
    "     X_train, X_test = X[train_index], X[test_index]\n",
    "     y_train, y_test = y[train_index], y[test_index]\n",
    "     print(\"TRAIN:\", train_index, \"TEST:\", test_index)\n",
    "     plt.rc('font', **font)\n",
    "     w = collections.Counter(y_train)\n",
    "     z = collections.Counter(y_test)\n",
    "     plt.figure(figsize=(5,8))\n",
    "     plt.bar(w.keys(), w.values())\n",
    "     plt.bar(z.keys(), z.values())\n",
    "     plt.xticks([1, 0, 2], ['C5', 'C4', 'C6'])\n",
    "     plt.legend(['Testing', 'Training'], loc='upper right')\n",
    "     plt.show()"
   ]
  },
  {
   "cell_type": "code",
   "execution_count": 16,
   "metadata": {},
   "outputs": [],
   "source": [
    "pipeline_sgd = Pipeline([  \n",
    "    ('tfidf', TfidfTransformer()),  \n",
    "    ('classifier', SGDClassifier()),  \n",
    "])"
   ]
  },
  {
   "cell_type": "code",
   "execution_count": 17,
   "metadata": {},
   "outputs": [
    {
     "data": {
      "text/plain": [
       "Pipeline(steps=[('tfidf', TfidfTransformer()), ('classifier', SGDClassifier())])"
      ]
     },
     "execution_count": 17,
     "metadata": {},
     "output_type": "execute_result"
    }
   ],
   "source": [
    "pipeline_sgd.fit(X_train, y_train)"
   ]
  },
  {
   "cell_type": "code",
   "execution_count": 18,
   "metadata": {},
   "outputs": [],
   "source": [
    "prediction_sgd = pipeline_sgd.predict(X_test)"
   ]
  },
  {
   "cell_type": "code",
   "execution_count": 19,
   "metadata": {},
   "outputs": [
    {
     "name": "stdout",
     "output_type": "stream",
     "text": [
      "Model accuracy score: 0.2000\n"
     ]
    }
   ],
   "source": [
    "from sklearn.metrics import accuracy_score\n",
    "print('Model accuracy score: {0:0.4f}'. format(accuracy_score(y_test, prediction_sgd)))"
   ]
  },
  {
   "cell_type": "code",
   "execution_count": 20,
   "metadata": {},
   "outputs": [
    {
     "name": "stdout",
     "output_type": "stream",
     "text": [
      "KFold(n_splits=10, random_state=None, shuffle=False)\n",
      "TRAIN: [ 12  13  14  15  16  17  18  19  20  21  22  23  24  25  26  27  28  29\n",
      "  30  31  32  33  34  35  36  37  38  39  40  41  42  43  44  45  46  47\n",
      "  48  49  50  51  52  53  54  55  56  57  58  59  60  61  62  63  64  65\n",
      "  66  67  68  69  70  71  72  73  74  75  76  77  78  79  80  81  82  83\n",
      "  84  85  86  87  88  89  90  91  92  93  94  95  96  97  98  99 100 101\n",
      " 102 103 104 105 106 107 108 109 110] TEST: [ 0  1  2  3  4  5  6  7  8  9 10 11]\n"
     ]
    },
    {
     "data": {
      "image/png": "[encoded data removed]",
      "text/plain": [
       "<Figure size 360x576 with 1 Axes>"
      ]
     },
     "metadata": {
      "needs_background": "light"
     },
     "output_type": "display_data"
    },
    {
     "name": "stdout",
     "output_type": "stream",
     "text": [
      "TRAIN: [  0   1   2   3   4   5   6   7   8   9  10  11  23  24  25  26  27  28\n",
      "  29  30  31  32  33  34  35  36  37  38  39  40  41  42  43  44  45  46\n",
      "  47  48  49  50  51  52  53  54  55  56  57  58  59  60  61  62  63  64\n",
      "  65  66  67  68  69  70  71  72  73  74  75  76  77  78  79  80  81  82\n",
      "  83  84  85  86  87  88  89  90  91  92  93  94  95  96  97  98  99 100\n",
      " 101 102 103 104 105 106 107 108 109 110] TEST: [12 13 14 15 16 17 18 19 20 21 22]\n"
     ]
    },
    {
     "data": {
      "image/png": "[encoded data removed]",
      "text/plain": [
       "<Figure size 360x576 with 1 Axes>"
      ]
     },
     "metadata": {
      "needs_background": "light"
     },
     "output_type": "display_data"
    },
    {
     "name": "stdout",
     "output_type": "stream",
     "text": [
      "TRAIN: [  0   1   2   3   4   5   6   7   8   9  10  11  12  13  14  15  16  17\n",
      "  18  19  20  21  22  34  35  36  37  38  39  40  41  42  43  44  45  46\n",
      "  47  48  49  50  51  52  53  54  55  56  57  58  59  60  61  62  63  64\n",
      "  65  66  67  68  69  70  71  72  73  74  75  76  77  78  79  80  81  82\n",
      "  83  84  85  86  87  88  89  90  91  92  93  94  95  96  97  98  99 100\n",
      " 101 102 103 104 105 106 107 108 109 110] TEST: [23 24 25 26 27 28 29 30 31 32 33]\n"
     ]
    },
    {
     "data": {
      "image/png": "[encoded data removed]",
      "text/plain": [
       "<Figure size 360x576 with 1 Axes>"
      ]
     },
     "metadata": {
      "needs_background": "light"
     },
     "output_type": "display_data"
    },
    {
     "name": "stdout",
     "output_type": "stream",
     "text": [
      "TRAIN: [  0   1   2   3   4   5   6   7   8   9  10  11  12  13  14  15  16  17\n",
      "  18  19  20  21  22  23  24  25  26  27  28  29  30  31  32  33  45  46\n",
      "  47  48  49  50  51  52  53  54  55  56  57  58  59  60  61  62  63  64\n",
      "  65  66  67  68  69  70  71  72  73  74  75  76  77  78  79  80  81  82\n",
      "  83  84  85  86  87  88  89  90  91  92  93  94  95  96  97  98  99 100\n",
      " 101 102 103 104 105 106 107 108 109 110] TEST: [34 35 36 37 38 39 40 41 42 43 44]\n"
     ]
    },
    {
     "data": {
      "image/png": "[encoded data removed]",
      "text/plain": [
       "<Figure size 360x576 with 1 Axes>"
      ]
     },
     "metadata": {
      "needs_background": "light"
     },
     "output_type": "display_data"
    },
    {
     "name": "stdout",
     "output_type": "stream",
     "text": [
      "TRAIN: [  0   1   2   3   4   5   6   7   8   9  10  11  12  13  14  15  16  17\n",
      "  18  19  20  21  22  23  24  25  26  27  28  29  30  31  32  33  34  35\n",
      "  36  37  38  39  40  41  42  43  44  56  57  58  59  60  61  62  63  64\n",
      "  65  66  67  68  69  70  71  72  73  74  75  76  77  78  79  80  81  82\n",
      "  83  84  85  86  87  88  89  90  91  92  93  94  95  96  97  98  99 100\n",
      " 101 102 103 104 105 106 107 108 109 110] TEST: [45 46 47 48 49 50 51 52 53 54 55]\n"
     ]
    },
    {
     "data": {
      "image/png": "[encoded data removed]",
      "text/plain": [
       "<Figure size 360x576 with 1 Axes>"
      ]
     },
     "metadata": {
      "needs_background": "light"
     },
     "output_type": "display_data"
    },
    {
     "name": "stdout",
     "output_type": "stream",
     "text": [
      "TRAIN: [  0   1   2   3   4   5   6   7   8   9  10  11  12  13  14  15  16  17\n",
      "  18  19  20  21  22  23  24  25  26  27  28  29  30  31  32  33  34  35\n",
      "  36  37  38  39  40  41  42  43  44  45  46  47  48  49  50  51  52  53\n",
      "  54  55  67  68  69  70  71  72  73  74  75  76  77  78  79  80  81  82\n",
      "  83  84  85  86  87  88  89  90  91  92  93  94  95  96  97  98  99 100\n",
      " 101 102 103 104 105 106 107 108 109 110] TEST: [56 57 58 59 60 61 62 63 64 65 66]\n"
     ]
    },
    {
     "data": {
      "image/png": "[encoded data removed]",
      "text/plain": [
       "<Figure size 360x576 with 1 Axes>"
      ]
     },
     "metadata": {
      "needs_background": "light"
     },
     "output_type": "display_data"
    },
    {
     "name": "stdout",
     "output_type": "stream",
     "text": [
      "TRAIN: [  0   1   2   3   4   5   6   7   8   9  10  11  12  13  14  15  16  17\n",
      "  18  19  20  21  22  23  24  25  26  27  28  29  30  31  32  33  34  35\n",
      "  36  37  38  39  40  41  42  43  44  45  46  47  48  49  50  51  52  53\n",
      "  54  55  56  57  58  59  60  61  62  63  64  65  66  78  79  80  81  82\n",
      "  83  84  85  86  87  88  89  90  91  92  93  94  95  96  97  98  99 100\n",
      " 101 102 103 104 105 106 107 108 109 110] TEST: [67 68 69 70 71 72 73 74 75 76 77]\n"
     ]
    },
    {
     "data": {
      "image/png": "[encoded data removed]",
      "text/plain": [
       "<Figure size 360x576 with 1 Axes>"
      ]
     },
     "metadata": {
      "needs_background": "light"
     },
     "output_type": "display_data"
    },
    {
     "name": "stdout",
     "output_type": "stream",
     "text": [
      "TRAIN: [  0   1   2   3   4   5   6   7   8   9  10  11  12  13  14  15  16  17\n",
      "  18  19  20  21  22  23  24  25  26  27  28  29  30  31  32  33  34  35\n",
      "  36  37  38  39  40  41  42  43  44  45  46  47  48  49  50  51  52  53\n",
      "  54  55  56  57  58  59  60  61  62  63  64  65  66  67  68  69  70  71\n",
      "  72  73  74  75  76  77  89  90  91  92  93  94  95  96  97  98  99 100\n",
      " 101 102 103 104 105 106 107 108 109 110] TEST: [78 79 80 81 82 83 84 85 86 87 88]\n"
     ]
    },
    {
     "data": {
      "image/png": "[encoded data removed]",
      "text/plain": [
       "<Figure size 360x576 with 1 Axes>"
      ]
     },
     "metadata": {
      "needs_background": "light"
     },
     "output_type": "display_data"
    },
    {
     "name": "stdout",
     "output_type": "stream",
     "text": [
      "TRAIN: [  0   1   2   3   4   5   6   7   8   9  10  11  12  13  14  15  16  17\n",
      "  18  19  20  21  22  23  24  25  26  27  28  29  30  31  32  33  34  35\n",
      "  36  37  38  39  40  41  42  43  44  45  46  47  48  49  50  51  52  53\n",
      "  54  55  56  57  58  59  60  61  62  63  64  65  66  67  68  69  70  71\n",
      "  72  73  74  75  76  77  78  79  80  81  82  83  84  85  86  87  88 100\n",
      " 101 102 103 104 105 106 107 108 109 110] TEST: [89 90 91 92 93 94 95 96 97 98 99]\n"
     ]
    },
    {
     "data": {
      "image/png": "[encoded data removed]",
      "text/plain": [
       "<Figure size 360x576 with 1 Axes>"
      ]
     },
     "metadata": {
      "needs_background": "light"
     },
     "output_type": "display_data"
    },
    {
     "name": "stdout",
     "output_type": "stream",
     "text": [
      "TRAIN: [ 0  1  2  3  4  5  6  7  8  9 10 11 12 13 14 15 16 17 18 19 20 21 22 23\n",
      " 24 25 26 27 28 29 30 31 32 33 34 35 36 37 38 39 40 41 42 43 44 45 46 47\n",
      " 48 49 50 51 52 53 54 55 56 57 58 59 60 61 62 63 64 65 66 67 68 69 70 71\n",
      " 72 73 74 75 76 77 78 79 80 81 82 83 84 85 86 87 88 89 90 91 92 93 94 95\n",
      " 96 97 98 99] TEST: [100 101 102 103 104 105 106 107 108 109 110]\n"
     ]
    },
    {
     "data": {
      "image/png": "[encoded data removed]",
      "text/plain": [
       "<Figure size 360x576 with 1 Axes>"
      ]
     },
     "metadata": {
      "needs_background": "light"
     },
     "output_type": "display_data"
    }
   ],
   "source": [
    "#setelah smote\n",
    "import numpy as np\n",
    "from sklearn.model_selection import KFold\n",
    "X = x_over\n",
    "y = y_over\n",
    "kf = KFold(n_splits=10) #k=2 utk testing dan training\n",
    "kf.get_n_splits(X)\n",
    "\n",
    "font = {'family' : 'normal',\n",
    "        'weight' : 'bold',\n",
    "        'size'   : 8}\n",
    "print(kf)\n",
    "KFold(n_splits=10, random_state=None, shuffle=True)\n",
    "for train_index, test_index in kf.split(X):\n",
    "     X_train_smote, X_test_smote = X[train_index], X[test_index]\n",
    "     y_train_smote, y_test_smote = y[train_index], y[test_index]\n",
    "     print(\"TRAIN:\", train_index, \"TEST:\", test_index)\n",
    "     plt.rc('font', **font)\n",
    "     w = collections.Counter(y_train_smote)\n",
    "     z = collections.Counter(y_test_smote)\n",
    "     plt.figure(figsize=(5,8))\n",
    "     plt.bar(w.keys(), w.values())\n",
    "     plt.bar(z.keys(), z.values())\n",
    "     plt.xticks([1, 0, 2], ['C5', 'C4', 'C6'])\n",
    "     plt.legend(['Testing', 'Training'], loc='upper right')\n",
    "     plt.show()"
   ]
  }
 ],
 "metadata": {
  "interpreter": {
   "hash": "33dc6d49505b4536b6a128d9d7c879e1fa44477ad44947bbbe73093067fe6393"
  },
  "kernelspec": {
   "display_name": "Python 3.9.5 64-bit",
   "name": "python3"
  },
  "language_info": {
   "codemirror_mode": {
    "name": "ipython",
    "version": 3
   },
   "file_extension": ".py",
   "mimetype": "text/x-python",
   "name": "python",
   "nbconvert_exporter": "python",
   "pygments_lexer": "ipython3",
   "version": "3.9.5"
  },
  "orig_nbformat": 4
 },
 "nbformat": 4,
 "nbformat_minor": 2
}
